{
 "cells": [
  {
   "cell_type": "markdown",
   "metadata": {},
   "source": [
    "# Getting started\n",
    "\n",
    "Once you've chosen your scenario, download the data from [the Iowa website](https://data.iowa.gov/Economy/Iowa-Liquor-Sales/m3tr-qhgy) in csv format. Start by loading the data with pandas. You may need to parse the date columns appropriately."
   ]
  },
  {
   "cell_type": "code",
   "execution_count": null,
   "metadata": {
    "collapsed": false
   },
   "outputs": [],
   "source": [
    "# import data and check datatype\n",
    "import pandas as pd\n",
    "df = pd.read_csv('~/desktop/liquor10.csv')\n",
    "df.Date = pd.to_datetime(df.Date)\n",
    "df.dtypes"
   ]
  },
  {
   "cell_type": "code",
   "execution_count": null,
   "metadata": {
    "collapsed": false
   },
   "outputs": [],
   "source": [
    "df.shape"
   ]
  },
  {
   "cell_type": "code",
   "execution_count": null,
   "metadata": {
    "collapsed": false
   },
   "outputs": [],
   "source": [
    "df.isnull().sum()"
   ]
  },
  {
   "cell_type": "code",
   "execution_count": null,
   "metadata": {
    "collapsed": true
   },
   "outputs": [],
   "source": [
    "# less than 1% of missing value, not a big deal to drop it\n",
    "df.dropna(inplace=True)"
   ]
  },
  {
   "cell_type": "code",
   "execution_count": null,
   "metadata": {
    "collapsed": false
   },
   "outputs": [],
   "source": [
    "# convert dollar columns to numeric datatype\n",
    "df['cost']=map(lambda x: float(x[1:]), df['State Bottle Cost'])\n",
    "df['retail']=map(lambda x: float(x[1:]), df['State Bottle Retail'])\n",
    "df['sale']=map(lambda x: float(x[1:]), df['Sale (Dollars)'])"
   ]
  },
  {
   "cell_type": "code",
   "execution_count": null,
   "metadata": {
    "collapsed": false
   },
   "outputs": [],
   "source": [
    "# create 'season' feature to use in the model\n",
    "df['season'] = df.Date.dt.quarter"
   ]
  },
  {
   "cell_type": "code",
   "execution_count": null,
   "metadata": {
    "collapsed": false
   },
   "outputs": [],
   "source": [
    "# calculate the sum of sale, volume and bottles sold based on location and time\n",
    "saledata = df.sale.groupby([df['County Number'], df['season']]).sum()\n",
    "volumedata = df['Volume Sold (Liters)'].groupby([df['County Number'], df['season']]).sum()\n",
    "bottledata = df['Bottles Sold'].groupby([df['County Number'], df['season']]).sum()\n",
    "sumdata = pd.concat([saledata, volumedata, bottledata], axis = 1)\n",
    "sumdata.reset_index(level = ['County Number', 'season'], inplace=True)"
   ]
  },
  {
   "cell_type": "code",
   "execution_count": null,
   "metadata": {
    "collapsed": true
   },
   "outputs": [],
   "source": [
    "# calculate the average price for different location and season\n",
    "sumdata['price'] = sumdata.sale/sumdata['Bottles Sold']"
   ]
  },
  {
   "cell_type": "code",
   "execution_count": null,
   "metadata": {
    "collapsed": false,
    "scrolled": false
   },
   "outputs": [],
   "source": [
    "sumdata.head()"
   ]
  },
  {
   "cell_type": "markdown",
   "metadata": {},
   "source": [
    "# Explore the data\n",
    "\n",
    "Perform some exploratory statistical analysis and make some plots, such as histograms of transaction totals, bottles sold, etc."
   ]
  },
  {
   "cell_type": "code",
   "execution_count": null,
   "metadata": {
    "collapsed": false
   },
   "outputs": [],
   "source": [
    "# plot price vs sale, could identify some outliers\n",
    "\n",
    "import seaborn as sns\n",
    "import matplotlib.pyplot as plt\n",
    "%matplotlib inline\n",
    "\n",
    "sns.jointplot(sumdata.price, sumdata.sale, kind='reg')"
   ]
  },
  {
   "cell_type": "code",
   "execution_count": null,
   "metadata": {
    "collapsed": false
   },
   "outputs": [],
   "source": [
    "#plot bottles sold vs sale, perfect correlation as expected\n",
    "\n",
    "sns.jointplot(sumdata['Bottles Sold'], sumdata.sale, kind='reg')"
   ]
  },
  {
   "cell_type": "code",
   "execution_count": null,
   "metadata": {
    "collapsed": false
   },
   "outputs": [],
   "source": [
    "# drop outliers over 3 standard deviation from the mean\n",
    "import numpy as np\n",
    "from scipy import stats\n",
    "modeldata = sumdata[np.abs(stats.zscore(sumdata)<3).all(axis=1)]"
   ]
  },
  {
   "cell_type": "markdown",
   "metadata": {},
   "source": [
    "# Refine the data\n",
    "Look for any statistical relationships, correlations, or other relevant properties of the dataset."
   ]
  },
  {
   "cell_type": "code",
   "execution_count": null,
   "metadata": {
    "collapsed": false
   },
   "outputs": [],
   "source": [
    "# check the correlation between features\n",
    "modeldata.corr()"
   ]
  },
  {
   "cell_type": "code",
   "execution_count": null,
   "metadata": {
    "collapsed": false
   },
   "outputs": [],
   "source": [
    "# assiagn independent and dependent variables, and create dummies for categorical features\n",
    "\n",
    "from sklearn import metrics\n",
    "from sklearn import preprocessing\n",
    "\n",
    "categorical = preprocessing.OneHotEncoder(categorical_features = [0,1])\n",
    "X = modeldata[['County Number', 'season', 'price', 'Bottles Sold']]\n",
    "y = modeldata['sale']\n",
    "X = categorical.fit_transform(X)"
   ]
  },
  {
   "cell_type": "markdown",
   "metadata": {},
   "source": [
    "# Build your models\n",
    "\n",
    "Using scikit-learn or statsmodels, build the necessary models for your scenario. Evaluate model fit."
   ]
  },
  {
   "cell_type": "code",
   "execution_count": null,
   "metadata": {
    "collapsed": false
   },
   "outputs": [],
   "source": [
    "# build linear regression with lasso regularization to address multicollinearity problem brought by dummies.\n",
    "from sklearn.cross_validation import train_test_split\n",
    "from sklearn.linear_model import LassoCV, Lasso\n",
    "X_train, X_test, y_train, y_test = train_test_split(X, y, test_size=0.3, random_state=99)\n",
    "lassocv = LassoCV(n_alphas=100, normalize=True, random_state=1)\n",
    "lassocv.fit(X_train, y_train)\n",
    "print lassocv.alpha_\n",
    "y_pred = lassocv.predict(X_test)\n",
    "print metrics.r2_score(y_test, y_pred)\n",
    "print np.sqrt(metrics.mean_squared_error(y_test, y_pred))"
   ]
  },
  {
   "cell_type": "code",
   "execution_count": null,
   "metadata": {
    "collapsed": false
   },
   "outputs": [],
   "source": [
    "plt.scatter(y_pred, y_test)"
   ]
  },
  {
   "cell_type": "code",
   "execution_count": null,
   "metadata": {
    "collapsed": false
   },
   "outputs": [],
   "source": [
    "# check how the model would perform without bottles sold as independent variable\n",
    "X = modeldata[['County Number', 'season', 'price']]\n",
    "y = modeldata['sale']\n",
    "X = categorical.fit_transform(X)\n",
    "X_train, X_test, y_train, y_test = train_test_split(X, y, test_size=0.3, random_state=99)"
   ]
  },
  {
   "cell_type": "code",
   "execution_count": null,
   "metadata": {
    "collapsed": false
   },
   "outputs": [],
   "source": [
    "# r2 is still very high without bottles sold, but the rmse is significantly higher, which indicates:\n",
    "# 1. the model is less predictive without bottles sold\n",
    "# 2. r2 may not be a good matrics to evaluate a regularized model since the loss function is not solely mse\n",
    "lassocv = LassoCV(n_alphas=100, normalize=True, random_state=1)\n",
    "lassocv.fit(X_train, y_train)\n",
    "print lassocv.alpha_\n",
    "pred_y = lassocv.predict(X_test)\n",
    "print metrics.r2_score(y_test, pred_y)\n",
    "print np.sqrt(metrics.mean_squared_error(y_test, pred_y))"
   ]
  }
 ],
 "metadata": {
  "anaconda-cloud": {},
  "kernelspec": {
   "display_name": "Python [Root]",
   "language": "python",
   "name": "Python [Root]"
  },
  "language_info": {
   "codemirror_mode": {
    "name": "ipython",
    "version": 2
   },
   "file_extension": ".py",
   "mimetype": "text/x-python",
   "name": "python",
   "nbconvert_exporter": "python",
   "pygments_lexer": "ipython2",
   "version": "2.7.12"
  }
 },
 "nbformat": 4,
 "nbformat_minor": 0
}
