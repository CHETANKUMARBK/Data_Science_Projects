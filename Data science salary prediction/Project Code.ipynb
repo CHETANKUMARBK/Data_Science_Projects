{
 "cells": [
  {
   "cell_type": "markdown",
   "metadata": {
    "focus": false,
    "id": "69b9a648-bcc7-490d-9f9b-ea244d156bd6"
   },
   "source": [
    "# Web Scraping for Indeed.com & Predicting Salaries"
   ]
  },
  {
   "cell_type": "markdown",
   "metadata": {
    "focus": false,
    "id": "a948d79c-5527-4c0d-ab23-f5d43ce72056"
   },
   "source": [
    "### Scraping job listings from Indeed.com"
   ]
  },
  {
   "cell_type": "code",
   "execution_count": 1,
   "metadata": {
    "collapsed": true,
    "focus": false,
    "id": "2efefc73-064a-482d-b3b5-ddf5508cb4ec"
   },
   "outputs": [],
   "source": [
    "import requests\n",
    "import bs4\n",
    "from bs4 import BeautifulSoup\n",
    "import sys\n",
    "import pandas as pd\n",
    "import numpy as np\n",
    "from sklearn.ensemble import RandomForestClassifier, GradientBoostingClassifier\n",
    "from sklearn import svm\n",
    "from sklearn.preprocessing import LabelEncoder, OneHotEncoder\n",
    "from sklearn.feature_extraction.text import TfidfVectorizer\n",
    "from sklearn.cross_validation import cross_val_score, cross_val_predict, KFold, train_test_split\n",
    "from sklearn.grid_search import GridSearchCV\n",
    "from sklearn.metrics import confusion_matrix, classification_report, roc_curve, auc\n",
    "import matplotlib.pyplot as plt\n",
    "%matplotlib inline"
   ]
  },
  {
   "cell_type": "code",
   "execution_count": null,
   "metadata": {
    "collapsed": false,
    "focus": false,
    "id": "e915023e-6b0d-4982-af2a-b1e0355f4927"
   },
   "outputs": [],
   "source": [
    "url = \"http://www.indeed.com/jobs?q=data+scientist&l=New+York%2C+NY&start=1\""
   ]
  },
  {
   "cell_type": "code",
   "execution_count": null,
   "metadata": {
    "collapsed": false,
    "focus": false,
    "id": "2c6752c4-7704-4c94-8bc0-6f13d2d0d570"
   },
   "outputs": [],
   "source": [
    "# try out scraping function on a single page to see if it scrapes the right contents successfully\n",
    "\n",
    "response = requests.get(url)\n",
    "soup = BeautifulSoup(response.content)\n",
    "jobs=[]\n",
    "for post in soup.find_all('div', {'class':' row result'}):\n",
    "    job={}\n",
    "    job['title'] = post.find('a').get('title')\n",
    "    try:\n",
    "        job['company'] = post.find('span', {'itemprop':'name'}).getText()\n",
    "    except:\n",
    "        job['company'] = None\n",
    "    job['location'] = post.find('span', {'class':'location'}).getText()\n",
    "    job['summary'] = post.find('span', {'class':'summary'}).getText()\n",
    "    try:\n",
    "        job['salary'] = post.find('td', {'class':'snip'}).find('nobr').renderContents()\n",
    "    except:\n",
    "        job['salary'] = None\n",
    "    jobs.append(job)\n",
    "jobs"
   ]
  },
  {
   "cell_type": "code",
   "execution_count": null,
   "metadata": {
    "collapsed": true,
    "focus": false,
    "id": "a1af53c9-9090-494f-b82e-cadb60a54909"
   },
   "outputs": [],
   "source": [
    "# try to convert contents into dataframe to take a look\n",
    "\n",
    "test = pd.DataFrame(jobs)\n",
    "test"
   ]
  },
  {
   "cell_type": "code",
   "execution_count": null,
   "metadata": {
    "collapsed": false,
    "focus": false,
    "id": "04b0f9af-540e-402f-8292-81748707c676"
   },
   "outputs": [],
   "source": [
    "# create a function to automatically go through pages and scrape results for more cities\n",
    "\n",
    "url_template = \"http://www.indeed.com/jobs?q=data+scientist+%2420%2C000&l={}&start={}\"\n",
    "max_results_per_city = 5000 # Set this to a high-value (5000) to generate more results. \n",
    "\n",
    "results = []\n",
    "\n",
    "for city in set(['New+York', 'Chicago', 'San+Francisco', 'Austin', 'Seattle', \n",
    "    'Los+Angeles', 'Philadelphia', 'Atlanta', 'Dallas', 'Pittsburgh', \n",
    "    'Portland', 'Phoenix', 'Denver', 'Houston', 'Miami', 'Virginia']):\n",
    "    for start in range(0, max_results_per_city, 10):\n",
    "        # Grab the results from the request (as above)\n",
    "        r = requests.get(url_template.format(city, start))\n",
    "        soup = BeautifulSoup(r.content)\n",
    "        for post in soup.find_all('div', {'class':' row result'}):\n",
    "            result={}\n",
    "            try:\n",
    "                result['company'] = post.find('span', {'itemprop':'name'}).getText()\n",
    "            except:\n",
    "                result['company'] = None\n",
    "            result['title'] = post.find('a').get('title')\n",
    "            result['location'] = post.find('span', {'class':'location'}).getText()\n",
    "            result['summary'] = post.find('span', {'class':'summary'}).getText()\n",
    "            try:\n",
    "                result['salary'] = post.find('td', {'class':'snip'}).find('nobr').renderContents()\n",
    "            except:\n",
    "                result['salary'] = None\n",
    "            results.append(result)\n",
    "       "
   ]
  },
  {
   "cell_type": "code",
   "execution_count": null,
   "metadata": {
    "collapsed": false,
    "focus": false,
    "id": "6e259594-1c52-436b-ab9e-527e071941c1"
   },
   "outputs": [],
   "source": [
    "# convert results to dataframe\n",
    "df = pd.DataFrame(results)"
   ]
  },
  {
   "cell_type": "code",
   "execution_count": null,
   "metadata": {
    "collapsed": false
   },
   "outputs": [],
   "source": [
    "# save raw data to a file\n",
    "\n",
    "reload(sys)\n",
    "sys.setdefaultencoding('utf-8')\n",
    "df.to_csv('~/desktop/dsjobs.csv')"
   ]
  },
  {
   "cell_type": "code",
   "execution_count": null,
   "metadata": {
    "collapsed": false,
    "focus": false,
    "id": "58533e57-f86b-494a-b841-e7b59c6229c6"
   },
   "outputs": [],
   "source": [
    "# Find the entries with annual salary entries, \n",
    "# by filtering the entries without salaries or salaries that are not yearly \n",
    "#(filter those that refer to hour or week). Also, remove duplicate entries\n",
    "\n",
    "df.dropna(inplace=True)\n",
    "df.drop_duplicates(inplace=True)\n",
    "df = df[df.salary.str.contains('hour')==False]\n",
    "df = df[df.salary.str.contains('week')==False]\n",
    "df = df[df.salary.str.contains('month')==False]\n",
    "df = df[df.salary.str.contains('day')==False]"
   ]
  },
  {
   "cell_type": "code",
   "execution_count": null,
   "metadata": {
    "collapsed": false
   },
   "outputs": [],
   "source": [
    "# clean strings\n",
    "df.summary = df.summary.apply(lambda x: x.strip())\n",
    "df.company = df.company.apply(lambda x: x.strip())"
   ]
  },
  {
   "cell_type": "code",
   "execution_count": null,
   "metadata": {
    "collapsed": false
   },
   "outputs": [],
   "source": [
    "# Convert salary string to number, and average a salary range\n",
    "\n",
    "df.salary = df.salary.apply(lambda x: x.replace(' a year', ''))\n",
    "df.salary = df.salary.apply(lambda x: x.replace('$', ''))\n",
    "df.salary = df.salary.apply(lambda x: x.replace(',', ''))"
   ]
  },
  {
   "cell_type": "code",
   "execution_count": null,
   "metadata": {
    "collapsed": false
   },
   "outputs": [],
   "source": [
    "def number(x):\n",
    "    if '-' in x:\n",
    "        return (int(x.split('-')[0])+int(x.split('-')[1]))/2\n",
    "    else:\n",
    "        return int(x)\n",
    "df.salary = df.salary.apply(number)"
   ]
  },
  {
   "cell_type": "markdown",
   "metadata": {
    "collapsed": false,
    "focus": false,
    "id": "43e71edd-210e-42b1-9336-70a931f048af"
   },
   "source": [
    "### Save cleaned data as a CSV"
   ]
  },
  {
   "cell_type": "code",
   "execution_count": null,
   "metadata": {
    "collapsed": true,
    "focus": false,
    "id": "783fd153-28ac-47ab-bfca-27e7c1de95b4"
   },
   "outputs": [],
   "source": [
    "df.to_csv('cleandata.csv')"
   ]
  },
  {
   "cell_type": "markdown",
   "metadata": {
    "focus": false,
    "id": "04563b69-f7b6-466f-9d65-fc62c9ddee6a"
   },
   "source": [
    "## EDA and Feature Engineering"
   ]
  },
  {
   "cell_type": "code",
   "execution_count": 2,
   "metadata": {
    "collapsed": false,
    "focus": false,
    "id": "588f9845-6143-4bcc-bfd1-85d45b79303d"
   },
   "outputs": [],
   "source": [
    "data = pd.read_csv('cleandata.csv')\n",
    "data.drop('Unnamed: 0', axis=1, inplace=True)"
   ]
  },
  {
   "cell_type": "code",
   "execution_count": 3,
   "metadata": {
    "collapsed": false,
    "focus": false,
    "id": "c20d2498-151c-44c3-a453-3a333c79a0ac"
   },
   "outputs": [],
   "source": [
    "# create binary dependent variable\n",
    "\n",
    "data['high_salary'] = data.salary.apply(lambda x: 0 if x<np.median(data.salary) else 1)\n",
    "data.rename(columns={'company': 'employer'}, inplace=True)"
   ]
  },
  {
   "cell_type": "code",
   "execution_count": 4,
   "metadata": {
    "collapsed": false,
    "focus": false,
    "id": "87a17d3d-b7f4-4747-9f75-f9af1d18a174"
   },
   "outputs": [
    {
     "data": {
      "text/plain": [
       "0.5017064846416383"
      ]
     },
     "execution_count": 4,
     "metadata": {},
     "output_type": "execute_result"
    }
   ],
   "source": [
    "# check the benchmark\n",
    "\n",
    "float(data.high_salary.sum())/len(data.high_salary)"
   ]
  },
  {
   "cell_type": "code",
   "execution_count": 5,
   "metadata": {
    "collapsed": false
   },
   "outputs": [],
   "source": [
    "# uniform location to city level\n",
    "\n",
    "def place(x):\n",
    "    return x.split(',')[0] + ', ' + x.split(',')[1][0:3]\n",
    "data.location = data.location.apply(place)"
   ]
  },
  {
   "cell_type": "code",
   "execution_count": 6,
   "metadata": {
    "collapsed": false,
    "focus": false,
    "id": "ddbc6159-6854-4ca7-857f-bfecdaf6d9c2"
   },
   "outputs": [],
   "source": [
    "# label categorical feature\n",
    "\n",
    "le = LabelEncoder()\n",
    "data['location_num'] = le.fit_transform(data.location)"
   ]
  },
  {
   "cell_type": "code",
   "execution_count": 7,
   "metadata": {
    "collapsed": false,
    "focus": false,
    "id": "068dc1cf-7fd7-4f27-a1f1-7f0a5a221d29"
   },
   "outputs": [],
   "source": [
    "# create a categorical feature from 'title' to identify the hierachy of titles\n",
    "\n",
    "def position(x):\n",
    "    if 'Manager' in x:\n",
    "        return 3\n",
    "    elif 'Principal' in x:\n",
    "        return 2\n",
    "    elif 'Senior' in x:\n",
    "        return 1\n",
    "    else:\n",
    "        return 0\n",
    "data['high_position'] = data.title.apply(position)"
   ]
  },
  {
   "cell_type": "markdown",
   "metadata": {},
   "source": [
    "### Conduct natural language processing on summary to create text features"
   ]
  },
  {
   "cell_type": "code",
   "execution_count": 8,
   "metadata": {
    "collapsed": false,
    "focus": false,
    "id": "b76f65cd-cd3a-4e91-af55-12880be7b057"
   },
   "outputs": [],
   "source": [
    "# Create text matrix. Use Tfidf instead of Countvectorizer to create standardized text features.\n",
    "\n",
    "tvec = TfidfVectorizer(stop_words='english')\n",
    "tvec.fit(data.summary)\n",
    "words = pd.DataFrame(tvec.transform(data.summary).todense(), columns = tvec.get_feature_names())"
   ]
  },
  {
   "cell_type": "code",
   "execution_count": 9,
   "metadata": {
    "collapsed": false
   },
   "outputs": [],
   "source": [
    "# merge text matrix back to the main dataframe\n",
    "\n",
    "df = pd.concat([data, words], axis=1)"
   ]
  },
  {
   "cell_type": "code",
   "execution_count": 10,
   "metadata": {
    "collapsed": false
   },
   "outputs": [
    {
     "data": {
      "text/html": [
       "<div>\n",
       "<table border=\"1\" class=\"dataframe\">\n",
       "  <thead>\n",
       "    <tr style=\"text-align: right;\">\n",
       "      <th></th>\n",
       "      <th>employer</th>\n",
       "      <th>location</th>\n",
       "      <th>salary</th>\n",
       "      <th>summary</th>\n",
       "      <th>title</th>\n",
       "      <th>high_salary</th>\n",
       "      <th>location_num</th>\n",
       "      <th>high_position</th>\n",
       "      <th>000</th>\n",
       "      <th>10</th>\n",
       "      <th>...</th>\n",
       "      <th>world</th>\n",
       "      <th>write</th>\n",
       "      <th>writing</th>\n",
       "      <th>written</th>\n",
       "      <th>xor</th>\n",
       "      <th>xrd</th>\n",
       "      <th>yearly</th>\n",
       "      <th>years</th>\n",
       "      <th>york</th>\n",
       "      <th>zachary</th>\n",
       "    </tr>\n",
       "  </thead>\n",
       "  <tbody>\n",
       "    <tr>\n",
       "      <th>0</th>\n",
       "      <td>Avispa Technology</td>\n",
       "      <td>Houston,  TX</td>\n",
       "      <td>100000</td>\n",
       "      <td>Works with multi-functional teams focused on e...</td>\n",
       "      <td>Data Scientist 5796057</td>\n",
       "      <td>0</td>\n",
       "      <td>28</td>\n",
       "      <td>0</td>\n",
       "      <td>0.0</td>\n",
       "      <td>0.0</td>\n",
       "      <td>...</td>\n",
       "      <td>0.0</td>\n",
       "      <td>0.0</td>\n",
       "      <td>0.0</td>\n",
       "      <td>0.0</td>\n",
       "      <td>0.0</td>\n",
       "      <td>0.0</td>\n",
       "      <td>0.0</td>\n",
       "      <td>0.0</td>\n",
       "      <td>0.0</td>\n",
       "      <td>0.0</td>\n",
       "    </tr>\n",
       "    <tr>\n",
       "      <th>1</th>\n",
       "      <td>DISYS</td>\n",
       "      <td>Houston,  TX</td>\n",
       "      <td>135000</td>\n",
       "      <td>Works with multi-functional teams focused on e...</td>\n",
       "      <td>Principal Data Scientist</td>\n",
       "      <td>1</td>\n",
       "      <td>28</td>\n",
       "      <td>2</td>\n",
       "      <td>0.0</td>\n",
       "      <td>0.0</td>\n",
       "      <td>...</td>\n",
       "      <td>0.0</td>\n",
       "      <td>0.0</td>\n",
       "      <td>0.0</td>\n",
       "      <td>0.0</td>\n",
       "      <td>0.0</td>\n",
       "      <td>0.0</td>\n",
       "      <td>0.0</td>\n",
       "      <td>0.0</td>\n",
       "      <td>0.0</td>\n",
       "      <td>0.0</td>\n",
       "    </tr>\n",
       "    <tr>\n",
       "      <th>2</th>\n",
       "      <td>Baylor College of Medicine</td>\n",
       "      <td>Houston,  TX</td>\n",
       "      <td>60998</td>\n",
       "      <td>External Title: Senior Quality Assurance / Qua...</td>\n",
       "      <td>Senior Quality Assurance / Quality Control (Re...</td>\n",
       "      <td>0</td>\n",
       "      <td>28</td>\n",
       "      <td>1</td>\n",
       "      <td>0.0</td>\n",
       "      <td>0.0</td>\n",
       "      <td>...</td>\n",
       "      <td>0.0</td>\n",
       "      <td>0.0</td>\n",
       "      <td>0.0</td>\n",
       "      <td>0.0</td>\n",
       "      <td>0.0</td>\n",
       "      <td>0.0</td>\n",
       "      <td>0.0</td>\n",
       "      <td>0.0</td>\n",
       "      <td>0.0</td>\n",
       "      <td>0.0</td>\n",
       "    </tr>\n",
       "    <tr>\n",
       "      <th>3</th>\n",
       "      <td>Oscar Technology</td>\n",
       "      <td>Houston,  TX</td>\n",
       "      <td>160000</td>\n",
       "      <td>Work with data scientist to identify data need...</td>\n",
       "      <td>Big Data Analytics Manager</td>\n",
       "      <td>1</td>\n",
       "      <td>28</td>\n",
       "      <td>3</td>\n",
       "      <td>0.0</td>\n",
       "      <td>0.0</td>\n",
       "      <td>...</td>\n",
       "      <td>0.0</td>\n",
       "      <td>0.0</td>\n",
       "      <td>0.0</td>\n",
       "      <td>0.0</td>\n",
       "      <td>0.0</td>\n",
       "      <td>0.0</td>\n",
       "      <td>0.0</td>\n",
       "      <td>0.0</td>\n",
       "      <td>0.0</td>\n",
       "      <td>0.0</td>\n",
       "    </tr>\n",
       "    <tr>\n",
       "      <th>4</th>\n",
       "      <td>Baylor College of Medicine</td>\n",
       "      <td>Houston,  TX</td>\n",
       "      <td>72120</td>\n",
       "      <td>Uses and customizes statistical graphing tools...</td>\n",
       "      <td>Bioinformatics Programmer II</td>\n",
       "      <td>0</td>\n",
       "      <td>28</td>\n",
       "      <td>0</td>\n",
       "      <td>0.0</td>\n",
       "      <td>0.0</td>\n",
       "      <td>...</td>\n",
       "      <td>0.0</td>\n",
       "      <td>0.0</td>\n",
       "      <td>0.0</td>\n",
       "      <td>0.0</td>\n",
       "      <td>0.0</td>\n",
       "      <td>0.0</td>\n",
       "      <td>0.0</td>\n",
       "      <td>0.0</td>\n",
       "      <td>0.0</td>\n",
       "      <td>0.0</td>\n",
       "    </tr>\n",
       "  </tbody>\n",
       "</table>\n",
       "<p>5 rows × 1353 columns</p>\n",
       "</div>"
      ],
      "text/plain": [
       "                     employer      location  salary  \\\n",
       "0           Avispa Technology  Houston,  TX  100000   \n",
       "1                       DISYS  Houston,  TX  135000   \n",
       "2  Baylor College of Medicine  Houston,  TX   60998   \n",
       "3            Oscar Technology  Houston,  TX  160000   \n",
       "4  Baylor College of Medicine  Houston,  TX   72120   \n",
       "\n",
       "                                             summary  \\\n",
       "0  Works with multi-functional teams focused on e...   \n",
       "1  Works with multi-functional teams focused on e...   \n",
       "2  External Title: Senior Quality Assurance / Qua...   \n",
       "3  Work with data scientist to identify data need...   \n",
       "4  Uses and customizes statistical graphing tools...   \n",
       "\n",
       "                                               title  high_salary  \\\n",
       "0                             Data Scientist 5796057            0   \n",
       "1                           Principal Data Scientist            1   \n",
       "2  Senior Quality Assurance / Quality Control (Re...            0   \n",
       "3                         Big Data Analytics Manager            1   \n",
       "4                       Bioinformatics Programmer II            0   \n",
       "\n",
       "   location_num  high_position  000   10   ...     world  write  writing  \\\n",
       "0            28              0  0.0  0.0   ...       0.0    0.0      0.0   \n",
       "1            28              2  0.0  0.0   ...       0.0    0.0      0.0   \n",
       "2            28              1  0.0  0.0   ...       0.0    0.0      0.0   \n",
       "3            28              3  0.0  0.0   ...       0.0    0.0      0.0   \n",
       "4            28              0  0.0  0.0   ...       0.0    0.0      0.0   \n",
       "\n",
       "   written  xor  xrd  yearly  years  york  zachary  \n",
       "0      0.0  0.0  0.0     0.0    0.0   0.0      0.0  \n",
       "1      0.0  0.0  0.0     0.0    0.0   0.0      0.0  \n",
       "2      0.0  0.0  0.0     0.0    0.0   0.0      0.0  \n",
       "3      0.0  0.0  0.0     0.0    0.0   0.0      0.0  \n",
       "4      0.0  0.0  0.0     0.0    0.0   0.0      0.0  \n",
       "\n",
       "[5 rows x 1353 columns]"
      ]
     },
     "execution_count": 10,
     "metadata": {},
     "output_type": "execute_result"
    }
   ],
   "source": [
    "df.head()"
   ]
  },
  {
   "cell_type": "markdown",
   "metadata": {},
   "source": [
    "### Feature Selection"
   ]
  },
  {
   "cell_type": "code",
   "execution_count": 11,
   "metadata": {
    "collapsed": false,
    "focus": false,
    "id": "269b9e7c-60b5-4a06-8255-881d7395bc1b"
   },
   "outputs": [
    {
     "data": {
      "text/plain": [
       "RandomForestClassifier(bootstrap=True, class_weight=None, criterion='gini',\n",
       "            max_depth=None, max_features='auto', max_leaf_nodes=None,\n",
       "            min_samples_leaf=1, min_samples_split=2,\n",
       "            min_weight_fraction_leaf=0.0, n_estimators=10, n_jobs=-1,\n",
       "            oob_score=False, random_state=None, verbose=0,\n",
       "            warm_start=False)"
      ]
     },
     "execution_count": 11,
     "metadata": {},
     "output_type": "execute_result"
    }
   ],
   "source": [
    "# utilize random forest to select features\n",
    "\n",
    "rf = RandomForestClassifier(n_jobs=-1)\n",
    "\n",
    "X = df.iloc[:,6:].as_matrix()\n",
    "y = df.high_salary\n",
    "X_train, X_test, y_train, y_test = train_test_split(X, y, test_size=0.3, random_state=41)\n",
    "\n",
    "rf.fit(X_train, y_train)"
   ]
  },
  {
   "cell_type": "code",
   "execution_count": 30,
   "metadata": {
    "collapsed": false
   },
   "outputs": [
    {
     "data": {
      "text/html": [
       "<div>\n",
       "<table border=\"1\" class=\"dataframe\">\n",
       "  <thead>\n",
       "    <tr style=\"text-align: right;\">\n",
       "      <th></th>\n",
       "      <th>importance</th>\n",
       "    </tr>\n",
       "  </thead>\n",
       "  <tbody>\n",
       "    <tr>\n",
       "      <th>big</th>\n",
       "      <td>0.044259</td>\n",
       "    </tr>\n",
       "    <tr>\n",
       "      <th>data</th>\n",
       "      <td>0.035693</td>\n",
       "    </tr>\n",
       "    <tr>\n",
       "      <th>company</th>\n",
       "      <td>0.034145</td>\n",
       "    </tr>\n",
       "    <tr>\n",
       "      <th>team</th>\n",
       "      <td>0.025159</td>\n",
       "    </tr>\n",
       "    <tr>\n",
       "      <th>location_num</th>\n",
       "      <td>0.022828</td>\n",
       "    </tr>\n",
       "    <tr>\n",
       "      <th>scientist</th>\n",
       "      <td>0.022280</td>\n",
       "    </tr>\n",
       "    <tr>\n",
       "      <th>high_position</th>\n",
       "      <td>0.018302</td>\n",
       "    </tr>\n",
       "    <tr>\n",
       "      <th>looking</th>\n",
       "      <td>0.017426</td>\n",
       "    </tr>\n",
       "    <tr>\n",
       "      <th>science</th>\n",
       "      <td>0.014183</td>\n",
       "    </tr>\n",
       "    <tr>\n",
       "      <th>lead</th>\n",
       "      <td>0.013826</td>\n",
       "    </tr>\n",
       "    <tr>\n",
       "      <th>research</th>\n",
       "      <td>0.013508</td>\n",
       "    </tr>\n",
       "    <tr>\n",
       "      <th>analyze</th>\n",
       "      <td>0.011852</td>\n",
       "    </tr>\n",
       "    <tr>\n",
       "      <th>join</th>\n",
       "      <td>0.011520</td>\n",
       "    </tr>\n",
       "    <tr>\n",
       "      <th>algorithms</th>\n",
       "      <td>0.011329</td>\n",
       "    </tr>\n",
       "    <tr>\n",
       "      <th>modeling</th>\n",
       "      <td>0.010705</td>\n",
       "    </tr>\n",
       "    <tr>\n",
       "      <th>derivative</th>\n",
       "      <td>0.010500</td>\n",
       "    </tr>\n",
       "    <tr>\n",
       "      <th>scientists</th>\n",
       "      <td>0.009908</td>\n",
       "    </tr>\n",
       "    <tr>\n",
       "      <th>client</th>\n",
       "      <td>0.009879</td>\n",
       "    </tr>\n",
       "    <tr>\n",
       "      <th>hands</th>\n",
       "      <td>0.009769</td>\n",
       "    </tr>\n",
       "    <tr>\n",
       "      <th>business</th>\n",
       "      <td>0.009717</td>\n",
       "    </tr>\n",
       "  </tbody>\n",
       "</table>\n",
       "</div>"
      ],
      "text/plain": [
       "               importance\n",
       "big              0.044259\n",
       "data             0.035693\n",
       "company          0.034145\n",
       "team             0.025159\n",
       "location_num     0.022828\n",
       "scientist        0.022280\n",
       "high_position    0.018302\n",
       "looking          0.017426\n",
       "science          0.014183\n",
       "lead             0.013826\n",
       "research         0.013508\n",
       "analyze          0.011852\n",
       "join             0.011520\n",
       "algorithms       0.011329\n",
       "modeling         0.010705\n",
       "derivative       0.010500\n",
       "scientists       0.009908\n",
       "client           0.009879\n",
       "hands            0.009769\n",
       "business         0.009717"
      ]
     },
     "execution_count": 30,
     "metadata": {},
     "output_type": "execute_result"
    }
   ],
   "source": [
    "feature_importances = pd.DataFrame(rf.feature_importances_,\n",
    "                                   index = df.iloc[:,6:].columns,\n",
    "                                    columns=['importance']).sort_values('importance',\n",
    "                                                                        ascending=False)\n",
    "feature_importances.head(20)"
   ]
  },
  {
   "cell_type": "code",
   "execution_count": 12,
   "metadata": {
    "collapsed": false
   },
   "outputs": [],
   "source": [
    "X = df[['location_num', 'high_position', 'scientist', 'data', 'big', 'company', 'team', 'looking', 'science', \n",
    "       'lead', 'research', 'analyze', 'join', 'algorithms', 'modeling', 'derivative']]\n",
    "\n",
    "X_train, X_test, y_train, y_test = train_test_split(X, y, test_size=0.3, random_state=41)"
   ]
  },
  {
   "cell_type": "markdown",
   "metadata": {},
   "source": [
    "### Define functions to fit, optimize and evaluate models"
   ]
  },
  {
   "cell_type": "code",
   "execution_count": 13,
   "metadata": {
    "collapsed": true
   },
   "outputs": [],
   "source": [
    "# Difine function to optimize parameters with grid search\n",
    "\n",
    "def gridsearch(model, params):\n",
    "    gs = GridSearchCV(model, params, n_jobs=-1)\n",
    "    gs.fit(X_train, y_train)\n",
    "    print 'Best parameters: ', gs.best_params_\n",
    "    print 'Best score on training set: ', gs.best_score_\n",
    "    print 'Score on test set: ', gs.score(X_test, y_test)"
   ]
  },
  {
   "cell_type": "code",
   "execution_count": 14,
   "metadata": {
    "collapsed": true
   },
   "outputs": [],
   "source": [
    "# Define function to train models on whole training set with best parameters from grid search and evaluate performance\n",
    "\n",
    "def evaluation(model):\n",
    "    model.fit(X_train, y_train)\n",
    "    print 'Accuracy score on test set: ', model.score(X_test, y_test)\n",
    "    return model.predict(X_test), model.predict_proba(X_test)[:,1]"
   ]
  },
  {
   "cell_type": "code",
   "execution_count": 15,
   "metadata": {
    "collapsed": true
   },
   "outputs": [],
   "source": [
    "# Define function to print confusion matrix\n",
    "\n",
    "def confusions(y_pred):\n",
    "    conmat = np.array(confusion_matrix(y_test, y_pred, labels=[1,0]))\n",
    "    confusion = pd.DataFrame(conmat, index=['high', 'low'], columns=['pred high', 'pred low'])\n",
    "    print confusion"
   ]
  },
  {
   "cell_type": "code",
   "execution_count": 16,
   "metadata": {
    "collapsed": true
   },
   "outputs": [],
   "source": [
    "# Define function to plot ROC curve\n",
    "\n",
    "def plot_roc(y_prob):\n",
    "    fpr = dict()\n",
    "    tpr = dict()\n",
    "    roc_auc=dict()\n",
    "    fpr[1], tpr[1], _ = roc_curve(y_test, y_prob)\n",
    "    roc_auc[1] = auc(fpr[1], tpr[1])\n",
    "    \n",
    "    plt.figure(figsize=[11,9])\n",
    "    plt.plot(fpr[1], tpr[1], label='ROC curve (area = %0.2f)' % roc_auc[1], linewidth=4)\n",
    "    plt.plot([0, 1], [0, 1], 'k--', linewidth=4)\n",
    "    plt.xlim([0.0, 1.0])\n",
    "    plt.ylim([0.0, 1.05])\n",
    "    plt.xlabel('False Positive Rate', fontsize=18)\n",
    "    plt.ylabel('True Positive Rate', fontsize=18)\n",
    "    plt.title('Receiver operating characteristic for high salary', fontsize=18)\n",
    "    plt.legend(loc=\"lower right\")\n",
    "    plt.show()"
   ]
  },
  {
   "cell_type": "markdown",
   "metadata": {},
   "source": [
    "### Random Forest"
   ]
  },
  {
   "cell_type": "code",
   "execution_count": 30,
   "metadata": {
    "collapsed": false
   },
   "outputs": [
    {
     "name": "stdout",
     "output_type": "stream",
     "text": [
      "Best parameters:  {'max_features': 'sqrt', 'n_estimators': 15, 'criterion': 'gini', 'max_depth': 5}\n",
      "Best score on training set:  0.756097560976\n",
      "Score on test set:  0.590909090909\n"
     ]
    }
   ],
   "source": [
    "# utilize grid search to optimize parameters\n",
    "\n",
    "rf_params = {'n_estimators': [5,10,15,20], 'criterion': ['gini', 'entropy'], \n",
    "             'max_features': ['auto', 'sqrt', 'log2', None], 'max_depth': [3,5,10,None]}\n",
    "\n",
    "gridsearch(rf, rf_params)"
   ]
  },
  {
   "cell_type": "code",
   "execution_count": 31,
   "metadata": {
    "collapsed": false
   },
   "outputs": [
    {
     "name": "stdout",
     "output_type": "stream",
     "text": [
      "Accuracy score on test set:  0.602272727273\n"
     ]
    }
   ],
   "source": [
    "# use the best model from grid search to check the accuracy score on test set\n",
    "\n",
    "rf = RandomForestClassifier(max_features=None, n_estimators=15, criterion='entropy', max_depth=5)\n",
    "\n",
    "rf_pred, rf_prob = evaluation(rf)"
   ]
  },
  {
   "cell_type": "code",
   "execution_count": 32,
   "metadata": {
    "collapsed": false
   },
   "outputs": [
    {
     "name": "stdout",
     "output_type": "stream",
     "text": [
      "      pred high  pred low\n",
      "high         22        26\n",
      "low           9        31\n"
     ]
    }
   ],
   "source": [
    "# print confusion matrix\n",
    "\n",
    "confusions(rf_pred)"
   ]
  },
  {
   "cell_type": "code",
   "execution_count": 33,
   "metadata": {
    "collapsed": false
   },
   "outputs": [
    {
     "name": "stdout",
     "output_type": "stream",
     "text": [
      "             precision    recall  f1-score   support\n",
      "\n",
      "          0       0.54      0.78      0.64        40\n",
      "          1       0.71      0.46      0.56        48\n",
      "\n",
      "avg / total       0.63      0.60      0.59        88\n",
      "\n"
     ]
    }
   ],
   "source": [
    "# print classification report\n",
    "\n",
    "print classification_report(y_test, rf_pred)"
   ]
  },
  {
   "cell_type": "code",
   "execution_count": 34,
   "metadata": {
    "collapsed": false
   },
   "outputs": [
    {
     "data": {
      "image/png": "[encoded data removed]",
      "text/plain": [
       "<matplotlib.figure.Figure at 0x11704cd50>"
      ]
     },
     "metadata": {},
     "output_type": "display_data"
    }
   ],
   "source": [
    "# plot the roc curve and calculate auc\n",
    "\n",
    "plot_roc(rf_prob)"
   ]
  },
  {
   "cell_type": "markdown",
   "metadata": {},
   "source": [
    "### Gradient Boosting"
   ]
  },
  {
   "cell_type": "code",
   "execution_count": 35,
   "metadata": {
    "collapsed": false
   },
   "outputs": [
    {
     "name": "stdout",
     "output_type": "stream",
     "text": [
      "Best parameters:  {'max_features': 'sqrt', 'n_estimators': 300, 'max_depth': 3}\n",
      "Best score on training set:  0.712195121951\n",
      "Score on test set:  0.681818181818\n"
     ]
    }
   ],
   "source": [
    "# try to use boosting to see if the accuracy score improve\n",
    "\n",
    "gbc = GradientBoostingClassifier()\n",
    "gbc_params = {'n_estimators': [100, 200, 250, 300], 'max_features': ['auto', 'sqrt', 'log2', None], \n",
    "              'max_depth': [3,5,10,None]}\n",
    "\n",
    "gridsearch(gbc, gbc_params)"
   ]
  },
  {
   "cell_type": "code",
   "execution_count": 36,
   "metadata": {
    "collapsed": false
   },
   "outputs": [
    {
     "name": "stdout",
     "output_type": "stream",
     "text": [
      "Accuracy score on test set:  0.670454545455\n"
     ]
    }
   ],
   "source": [
    "gbc = GradientBoostingClassifier(max_features='sqrt', n_estimators=300, max_depth=3)\n",
    "\n",
    "gbc_pred, gbc_prob = evaluation(gbc)"
   ]
  },
  {
   "cell_type": "code",
   "execution_count": 37,
   "metadata": {
    "collapsed": false
   },
   "outputs": [
    {
     "name": "stdout",
     "output_type": "stream",
     "text": [
      "      pred high  pred low\n",
      "high         32        16\n",
      "low          13        27\n"
     ]
    }
   ],
   "source": [
    "confusions(gbc_pred)"
   ]
  },
  {
   "cell_type": "code",
   "execution_count": 38,
   "metadata": {
    "collapsed": false
   },
   "outputs": [
    {
     "name": "stdout",
     "output_type": "stream",
     "text": [
      "             precision    recall  f1-score   support\n",
      "\n",
      "          0       0.63      0.68      0.65        40\n",
      "          1       0.71      0.67      0.69        48\n",
      "\n",
      "avg / total       0.67      0.67      0.67        88\n",
      "\n"
     ]
    }
   ],
   "source": [
    "print classification_report(y_test, gbc_pred)"
   ]
  },
  {
   "cell_type": "code",
   "execution_count": 39,
   "metadata": {
    "collapsed": false
   },
   "outputs": [
    {
     "data": {
      "image/png": "[encoded data removed]",
      "text/plain": [
       "<matplotlib.figure.Figure at 0x11700e9d0>"
      ]
     },
     "metadata": {},
     "output_type": "display_data"
    }
   ],
   "source": [
    "plot_roc(gbc_prob)"
   ]
  },
  {
   "cell_type": "markdown",
   "metadata": {},
   "source": [
    "### SVM"
   ]
  },
  {
   "cell_type": "code",
   "execution_count": 17,
   "metadata": {
    "collapsed": false,
    "focus": false,
    "id": "56cc8854-d722-411d-a6c7-e86310710f67"
   },
   "outputs": [],
   "source": [
    "# create dummies for categorical features\n",
    "\n",
    "enc = OneHotEncoder(categorical_features=[0,1])\n",
    "X = enc.fit_transform(X)"
   ]
  },
  {
   "cell_type": "code",
   "execution_count": 18,
   "metadata": {
    "collapsed": false
   },
   "outputs": [
    {
     "name": "stdout",
     "output_type": "stream",
     "text": [
      "Best parameters:  {'C': 10.0}\n",
      "Best score on training set:  0.717073170732\n",
      "Score on test set:  0.659090909091\n"
     ]
    }
   ],
   "source": [
    "sv = svm.SVC(kernel='linear')\n",
    "sv_params = {'C': 10.**np.arange(-2,3)}\n",
    "\n",
    "gridsearch(sv, sv_params)"
   ]
  },
  {
   "cell_type": "code",
   "execution_count": 19,
   "metadata": {
    "collapsed": false
   },
   "outputs": [
    {
     "name": "stdout",
     "output_type": "stream",
     "text": [
      "Accuracy score on test set:  0.659090909091\n"
     ]
    }
   ],
   "source": [
    "sv = svm.SVC(kernel='linear', C=10, probability=True)\n",
    "\n",
    "sv_pred, sv_prob = evaluation(sv)"
   ]
  },
  {
   "cell_type": "code",
   "execution_count": 20,
   "metadata": {
    "collapsed": false
   },
   "outputs": [
    {
     "name": "stdout",
     "output_type": "stream",
     "text": [
      "      pred high  pred low\n",
      "high         27        21\n",
      "low           9        31\n"
     ]
    }
   ],
   "source": [
    "confusions(sv_pred)"
   ]
  },
  {
   "cell_type": "code",
   "execution_count": 21,
   "metadata": {
    "collapsed": false
   },
   "outputs": [
    {
     "name": "stdout",
     "output_type": "stream",
     "text": [
      "             precision    recall  f1-score   support\n",
      "\n",
      "          0       0.60      0.78      0.67        40\n",
      "          1       0.75      0.56      0.64        48\n",
      "\n",
      "avg / total       0.68      0.66      0.66        88\n",
      "\n"
     ]
    }
   ],
   "source": [
    "print classification_report(y_test, sv_pred)"
   ]
  },
  {
   "cell_type": "code",
   "execution_count": 22,
   "metadata": {
    "collapsed": false
   },
   "outputs": [
    {
     "data": {
      "image/png": "[encoded data removed]",
      "text/plain": [
       "<matplotlib.figure.Figure at 0x1045cb150>"
      ]
     },
     "metadata": {},
     "output_type": "display_data"
    }
   ],
   "source": [
    "plot_roc(sv_prob)"
   ]
  },
  {
   "cell_type": "code",
   "execution_count": null,
   "metadata": {
    "collapsed": true
   },
   "outputs": [],
   "source": []
  }
 ],
 "metadata": {
  "anaconda-cloud": {},
  "kernelspec": {
   "display_name": "Python [Root]",
   "language": "python",
   "name": "Python [Root]"
  },
  "language_info": {
   "codemirror_mode": {
    "name": "ipython",
    "version": 2
   },
   "file_extension": ".py",
   "mimetype": "text/x-python",
   "name": "python",
   "nbconvert_exporter": "python",
   "pygments_lexer": "ipython2",
   "version": "2.7.12"
  }
 },
 "nbformat": 4,
 "nbformat_minor": 0
}
